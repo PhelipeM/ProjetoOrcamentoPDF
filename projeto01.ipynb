{
 "cells": [
  {
   "cell_type": "markdown",
   "metadata": {},
   "source": [
    "# Projeto 01 (transformando dados em um orçamento em PDF)"
   ]
  },
  {
   "cell_type": "markdown",
   "metadata": {},
   "source": [
    "#### Mostrando informações para o usuário:\n",
    "\n",
    "Comando `print()`"
   ]
  },
  {
   "cell_type": "code",
   "execution_count": 6,
   "metadata": {},
   "outputs": [
    {
     "name": "stdout",
     "output_type": "stream",
     "text": [
      "Semana do Python na Prática\n",
      "Phelipe Mazieri Ferreira\n"
     ]
    }
   ],
   "source": [
    "print('Semana do Python na Prática')\n",
    "print('Phelipe Mazieri Ferreira')"
   ]
  },
  {
   "cell_type": "markdown",
   "metadata": {},
   "source": [
    "#### Receber dados do usuário\n",
    "\n",
    "Comando `input()` \n",
    "(input sempre retorna o dado em str)"
   ]
  },
  {
   "cell_type": "code",
   "execution_count": 13,
   "metadata": {},
   "outputs": [
    {
     "name": "stdout",
     "output_type": "stream",
     "text": [
      "Nome: Phelipe\n",
      "Idade: 20\n"
     ]
    }
   ],
   "source": [
    "input('Digite o seu nome: ')\n",
    "input('Digite a sua idade: ')"
   ]
  },
  {
   "cell_type": "markdown",
   "metadata": {},
   "source": [
    "#### Armazenando dados em variáveis\n",
    "\n",
    "- case sensitive.\n",
    "- use nomes que façam sentido.\n",
    "- não pode começar com números.\n",
    "- não pode conter espaços em brancos.\n",
    "- não pode usar palavras reservadas.\n",
    "- não usar 'ç' acentos e etc."
   ]
  },
  {
   "cell_type": "code",
   "execution_count": null,
   "metadata": {},
   "outputs": [],
   "source": [
    "name = input('Digite o seu nome: ') # Armazenando com um nome pra variável(nome) e um sinal de \"=\" que é um sinal de atribuição.\n",
    "age = input('Digite a sua idade: ')\n",
    "legal_age = age >= 18\n",
    "\n",
    "print(f'Nome: {name}')\n",
    "print(f'Idade: {age}')"
   ]
  },
  {
   "cell_type": "markdown",
   "metadata": {},
   "source": [
    "#### Mesclando todos os conceitos aprendidos"
   ]
  },
  {
   "cell_type": "code",
   "execution_count": 25,
   "metadata": {},
   "outputs": [],
   "source": [
    "project = input('Digite a descrição do Projeto: ')\n",
    "worked_hours = input('Digite a quantidade de horas previstas: ')\n",
    "price_hour = input('Digite o valor por hora trabalhada: ')\n",
    "term = input('Digite o prazo estimado: ')"
   ]
  },
  {
   "cell_type": "code",
   "execution_count": 36,
   "metadata": {},
   "outputs": [
    {
     "name": "stdout",
     "output_type": "stream",
     "text": [
      "Projeto 01\n",
      "100\n",
      "150\n",
      "3 meses\n"
     ]
    }
   ],
   "source": [
    "print(project)\n",
    "print(worked_hours)\n",
    "print(price_hour)\n",
    "print(term)"
   ]
  },
  {
   "cell_type": "markdown",
   "metadata": {},
   "source": [
    "#### Tipos de Dados\n",
    "\n",
    "- Textos: `str`\n",
    "- Números: `int`, `float`\n",
    "- Booleano: `bool`\n",
    "- Comando de valor: `type()`\n",
    "- Conversão de tipos: `str()`, `int()`, `float()`, `bool()` "
   ]
  },
  {
   "cell_type": "code",
   "execution_count": 19,
   "metadata": {},
   "outputs": [
    {
     "name": "stdout",
     "output_type": "stream",
     "text": [
      "21\n"
     ]
    },
    {
     "data": {
      "text/plain": [
       "int"
      ]
     },
     "execution_count": 19,
     "metadata": {},
     "output_type": "execute_result"
    }
   ],
   "source": [
    "name = 'Phelipe'\n",
    "age = int('21')\n",
    "legal_age = True\n",
    "\n",
    "print(age)\n",
    "type(age)"
   ]
  },
  {
   "cell_type": "markdown",
   "metadata": {},
   "source": [
    "#### Cálculos no Python\n",
    "\n",
    "- Operador de soma: `+`\n",
    "- Operador de subtração: `-`\n",
    "- Operador de multiplicação: `*`\n",
    "- Operador de divisão: `/`\n",
    "- Operador de divisão inteira: `//`\n",
    "- Operador de potênciação: `**`\n",
    "- Operador de Resto da Divisão (Módulo): `%` "
   ]
  },
  {
   "cell_type": "code",
   "execution_count": 20,
   "metadata": {},
   "outputs": [
    {
     "name": "stdout",
     "output_type": "stream",
     "text": [
      "110\n",
      "50\n"
     ]
    }
   ],
   "source": [
    "soma = 100 + 10\n",
    "subtracao = 100 - 50\n",
    "print(soma)\n",
    "print(subtracao)"
   ]
  },
  {
   "cell_type": "markdown",
   "metadata": {},
   "source": [
    "#### Calculando o valor total do projeto"
   ]
  },
  {
   "cell_type": "code",
   "execution_count": 35,
   "metadata": {},
   "outputs": [
    {
     "name": "stdout",
     "output_type": "stream",
     "text": [
      "15000\n"
     ]
    }
   ],
   "source": [
    "price_total = int(worked_hours) * int(price_hour)\n",
    "print(price_total)"
   ]
  },
  {
   "cell_type": "markdown",
   "metadata": {},
   "source": [
    "# Gerando o PDF do orçamento\n",
    "\n",
    "`!p install fpdf` -> instalação do pacote de pdf"
   ]
  },
  {
   "cell_type": "code",
   "execution_count": 29,
   "metadata": {},
   "outputs": [],
   "source": [
    "from fpdf import FPDF # Importação dos comandos do FPDF"
   ]
  },
  {
   "cell_type": "code",
   "execution_count": 39,
   "metadata": {},
   "outputs": [
    {
     "name": "stdout",
     "output_type": "stream",
     "text": [
      "Orçamento gerado com sucesso!!\n"
     ]
    }
   ],
   "source": [
    "pdf = FPDF()\n",
    "\n",
    "pdf.add_page()\n",
    "pdf.set_font('Arial')\n",
    "\n",
    "pdf.image('template.png', x=0, y=0)\n",
    "\n",
    "pdf.text(115, 145, project)\n",
    "pdf.text(115, 160, worked_hours)\n",
    "pdf.text(115, 175, price_hour)\n",
    "pdf.text(115, 190, term)\n",
    "pdf.text(115, 205, str(price_total))\n",
    "\n",
    "pdf.output('Orçamento.pdf')\n",
    "print('Orçamento gerado com sucesso!!')"
   ]
  }
 ],
 "metadata": {
  "kernelspec": {
   "display_name": "Python 3",
   "language": "python",
   "name": "python3"
  },
  "language_info": {
   "codemirror_mode": {
    "name": "ipython",
    "version": 3
   },
   "file_extension": ".py",
   "mimetype": "text/x-python",
   "name": "python",
   "nbconvert_exporter": "python",
   "pygments_lexer": "ipython3",
   "version": "3.12.3"
  }
 },
 "nbformat": 4,
 "nbformat_minor": 2
}
